{
 "cells": [
  {
   "cell_type": "markdown",
   "metadata": {},
   "source": [
    "# Training Neural Networks\n",
    "\n",
    "The network we built in the previous part isn't so smart, it doesn't know anything about our handwritten digits. Neural networks with non-linear activations work like universal function approximators. There is some function that maps your input to the output. For example, images of handwritten digits to class probabilities. The power of neural networks is that we can train them to approximate this function, and basically any function given enough data and compute time.\n",
    "\n",
    "<img src=\"assets/function_approx.png\" width=500px>\n",
    "\n",
    "At first the network is naive, it doesn't know the function mapping the inputs to the outputs. We train the network by showing it examples of real data, then adjusting the network parameters such that it approximates this function.\n",
    "\n",
    "To find these parameters, we need to know how poorly the network is predicting the real outputs. For this we calculate a **loss function** (also called the cost), a measure of our prediction error. For example, the mean squared loss is often used in regression and binary classification problems\n",
    "\n",
    "$$\n",
    "\\large \\ell = \\frac{1}{2n}\\sum_i^n{\\left(y_i - \\hat{y}_i\\right)^2}\n",
    "$$\n",
    "\n",
    "where $n$ is the number of training examples, $y_i$ are the true labels, and $\\hat{y}_i$ are the predicted labels.\n",
    "\n",
    "By minimizing this loss with respect to the network parameters, we can find configurations where the loss is at a minimum and the network is able to predict the correct labels with high accuracy. We find this minimum using a process called **gradient descent**. The gradient is the slope of the loss function and points in the direction of fastest change. To get to the minimum in the least amount of time, we then want to follow the gradient (downwards). You can think of this like descending a mountain by following the steepest slope to the base.\n",
    "\n",
    "<img src='assets/gradient_descent.png' width=350px>"
   ]
  },
  {
   "cell_type": "markdown",
   "metadata": {},
   "source": [
    "## Backpropagation\n",
    "\n",
    "For single layer networks, gradient descent is straightforward to implement. However, it's more complicated for deeper, multilayer neural networks like the one we've built. Complicated enough that it took about 30 years before researchers figured out how to train multilayer networks.\n",
    "\n",
    "Training multilayer networks is done through **backpropagation** which is really just an application of the chain rule from calculus. It's easiest to understand if we convert a two layer network into a graph representation.\n",
    "\n",
    "<img src='assets/backprop_diagram.png' width=550px>\n",
    "\n",
    "In the forward pass through the network, our data and operations go from bottom to top here. We pass the input $x$ through a linear transformation $L_1$ with weights $W_1$ and biases $b_1$. The output then goes through the sigmoid operation $S$ and another linear transformation $L_2$. Finally we calculate the loss $\\ell$. We use the loss as a measure of how bad the network's predictions are. The goal then is to adjust the weights and biases to minimize the loss.\n",
    "\n",
    "To train the weights with gradient descent, we propagate the gradient of the loss backwards through the network. Each operation has some gradient between the inputs and outputs. As we send the gradients backwards, we multiply the incoming gradient with the gradient for the operation. Mathematically, this is really just calculating the gradient of the loss with respect to the weights using the chain rule.\n",
    "\n",
    "$$\n",
    "\\large \\frac{\\partial \\ell}{\\partial W_1} = \\frac{\\partial L_1}{\\partial W_1} \\frac{\\partial S}{\\partial L_1} \\frac{\\partial L_2}{\\partial S} \\frac{\\partial \\ell}{\\partial L_2}\n",
    "$$\n",
    "\n",
    "**Note:** I'm glossing over a few details here that require some knowledge of vector calculus, but they aren't necessary to understand what's going on.\n",
    "\n",
    "We update our weights using this gradient with some learning rate $\\alpha$. \n",
    "\n",
    "$$\n",
    "\\large W^\\prime_1 = W_1 - \\alpha \\frac{\\partial \\ell}{\\partial W_1}\n",
    "$$\n",
    "\n",
    "The learning rate $\\alpha$ is set such that the weight update steps are small enough that the iterative method settles in a minimum."
   ]
  },
  {
   "cell_type": "markdown",
   "metadata": {},
   "source": [
    "## Losses in PyTorch\n",
    "\n",
    "Let's start by seeing how we calculate the loss with PyTorch. Through the `nn` module, PyTorch provides losses such as the cross-entropy loss (`nn.CrossEntropyLoss`). You'll usually see the loss assigned to `criterion`. As noted in the last part, with a classification problem such as MNIST, we're using the softmax function to predict class probabilities. With a softmax output, you want to use cross-entropy as the loss. To actually calculate the loss, you first define the criterion then pass in the output of your network and the correct labels.\n",
    "\n",
    "Something really important to note here. Looking at [the documentation for `nn.CrossEntropyLoss`](https://pytorch.org/docs/stable/nn.html#torch.nn.CrossEntropyLoss),\n",
    "\n",
    "> This criterion combines `nn.LogSoftmax()` and `nn.NLLLoss()` in one single class.\n",
    ">\n",
    "> The input is expected to contain scores for each class.\n",
    "\n",
    "This means we need to pass in the raw output of our network into the loss, not the output of the softmax function. This raw output is usually called the *logits* or *scores*. We use the logits because softmax gives you probabilities which will often be very close to zero or one but floating-point numbers can't accurately represent values near zero or one ([read more here](https://docs.python.org/3/tutorial/floatingpoint.html)). It's usually best to avoid doing calculations with probabilities, typically we use log-probabilities."
   ]
  },
  {
   "cell_type": "code",
   "execution_count": 1,
   "metadata": {},
   "outputs": [],
   "source": [
    "import torch\n",
    "from torch import nn\n",
    "import torch.nn.functional as F\n",
    "from torchvision import datasets, transforms\n",
    "\n",
    "# Define a transform to normalize the data\n",
    "transform = transforms.Compose([transforms.ToTensor(),\n",
    "                                transforms.Normalize((0.5,), (0.5,)),\n",
    "                              ])\n",
    "# Download and load the training data\n",
    "trainset = datasets.MNIST('~/.pytorch/MNIST_data/', download=True, train=True, transform=transform)\n",
    "trainloader = torch.utils.data.DataLoader(trainset, batch_size=64, shuffle=True)"
   ]
  },
  {
   "cell_type": "markdown",
   "metadata": {},
   "source": [
    "### Note\n",
    "If you haven't seen `nn.Sequential` yet, please finish the end of the Part 2 notebook."
   ]
  },
  {
   "cell_type": "code",
   "execution_count": 2,
   "metadata": {},
   "outputs": [
    {
     "name": "stdout",
     "output_type": "stream",
     "text": [
      "tensor(2.3290, grad_fn=<NllLossBackward0>)\n"
     ]
    }
   ],
   "source": [
    "# Build a feed-forward network\n",
    "model = nn.Sequential(nn.Linear(784, 128),\n",
    "                      nn.ReLU(),\n",
    "                      nn.Linear(128, 64),\n",
    "                      nn.ReLU(),\n",
    "                      nn.Linear(64, 10))\n",
    "\n",
    "# Define the loss\n",
    "criterion = nn.CrossEntropyLoss()\n",
    "\n",
    "# Get our data\n",
    "dataiter = iter(trainloader)\n",
    "\n",
    "images, labels = next(dataiter)\n",
    "\n",
    "# Flatten images\n",
    "images = images.view(images.shape[0], -1)\n",
    "\n",
    "# Forward pass, get our logits\n",
    "logits = model(images)\n",
    "# Calculate the loss with the logits and the labels\n",
    "loss = criterion(logits, labels)\n",
    "\n",
    "print(loss)"
   ]
  },
  {
   "cell_type": "markdown",
   "metadata": {},
   "source": [
    "In my experience it's more convenient to build the model with a log-softmax output using `nn.LogSoftmax` or `F.log_softmax` ([documentation](https://pytorch.org/docs/stable/nn.html#torch.nn.LogSoftmax)). Then you can get the actual probabilities by taking the exponential `torch.exp(output)`. With a log-softmax output, you want to use the negative log likelihood loss, `nn.NLLLoss` ([documentation](https://pytorch.org/docs/stable/nn.html#torch.nn.NLLLoss)).\n",
    "\n",
    ">**Exercise:** Build a model that returns the log-softmax as the output and calculate the loss using the negative log likelihood loss. Note that for `nn.LogSoftmax` and `F.log_softmax` you'll need to set the `dim` keyword argument appropriately. `dim=0` calculates softmax across the rows, so each column sums to 1, while `dim=1` calculates across the columns so each row sums to 1. Think about what you want the output to be and choose `dim` appropriately."
   ]
  },
  {
   "cell_type": "code",
   "execution_count": 5,
   "metadata": {},
   "outputs": [
    {
     "name": "stdout",
     "output_type": "stream",
     "text": [
      "tensor([[-2.2760, -2.0980, -2.1907, -2.5234, -2.3703, -2.4526, -2.2147, -2.3964,\n",
      "         -2.2531, -2.3252],\n",
      "        [-2.3611, -2.1307, -2.2115, -2.5351, -2.3386, -2.4305, -2.1903, -2.4343,\n",
      "         -2.1959, -2.2742],\n",
      "        [-2.3401, -2.0877, -2.2293, -2.5563, -2.3665, -2.4335, -2.1119, -2.4376,\n",
      "         -2.2323, -2.3298],\n",
      "        [-2.3033, -2.1518, -2.1977, -2.4936, -2.3963, -2.3970, -2.2477, -2.4215,\n",
      "         -2.1857, -2.2901],\n",
      "        [-2.2553, -2.1057, -2.1906, -2.5173, -2.3568, -2.4148, -2.2864, -2.3506,\n",
      "         -2.2553, -2.3541],\n",
      "        [-2.2770, -2.0725, -2.2710, -2.5440, -2.3357, -2.4402, -2.1832, -2.3761,\n",
      "         -2.2357, -2.3711],\n",
      "        [-2.2803, -2.0739, -2.2914, -2.6377, -2.3836, -2.4390, -2.1212, -2.4404,\n",
      "         -2.2192, -2.2611],\n",
      "        [-2.3061, -2.0878, -2.1889, -2.5172, -2.3923, -2.5415, -2.1435, -2.3884,\n",
      "         -2.1909, -2.3788],\n",
      "        [-2.2628, -2.1476, -2.2418, -2.4205, -2.4189, -2.3714, -2.2603, -2.4526,\n",
      "         -2.2285, -2.2674],\n",
      "        [-2.2667, -2.1947, -2.1856, -2.4045, -2.3910, -2.4370, -2.2960, -2.3244,\n",
      "         -2.1964, -2.3690],\n",
      "        [-2.3517, -2.1029, -2.1834, -2.5110, -2.3597, -2.4995, -2.1349, -2.3991,\n",
      "         -2.2120, -2.3671],\n",
      "        [-2.3248, -2.1005, -2.1759, -2.4792, -2.3880, -2.4278, -2.2207, -2.3897,\n",
      "         -2.2334, -2.3530],\n",
      "        [-2.3314, -2.1162, -2.2157, -2.5474, -2.3069, -2.4191, -2.1613, -2.4291,\n",
      "         -2.2390, -2.3375],\n",
      "        [-2.3354, -2.0929, -2.2304, -2.5509, -2.3809, -2.4261, -2.1448, -2.4797,\n",
      "         -2.1995, -2.2844],\n",
      "        [-2.4199, -2.1104, -2.2513, -2.5188, -2.3141, -2.3889, -2.0917, -2.4421,\n",
      "         -2.2899, -2.2851],\n",
      "        [-2.3132, -2.1287, -2.2266, -2.4753, -2.4312, -2.3781, -2.1901, -2.3654,\n",
      "         -2.2305, -2.3425],\n",
      "        [-2.3086, -2.1053, -2.2696, -2.5317, -2.3255, -2.4237, -2.1748, -2.4093,\n",
      "         -2.2304, -2.3168],\n",
      "        [-2.3926, -2.1872, -2.2535, -2.4860, -2.3500, -2.4224, -2.1372, -2.4292,\n",
      "         -2.1928, -2.2410],\n",
      "        [-2.3588, -2.2072, -2.1791, -2.4441, -2.3845, -2.3996, -2.1863, -2.4012,\n",
      "         -2.1922, -2.3226],\n",
      "        [-2.2997, -2.1618, -2.2432, -2.5133, -2.3454, -2.3684, -2.2208, -2.4195,\n",
      "         -2.2290, -2.2741],\n",
      "        [-2.4069, -2.1384, -2.2411, -2.4694, -2.3571, -2.4136, -2.0820, -2.4764,\n",
      "         -2.2136, -2.3140],\n",
      "        [-2.2882, -2.1827, -2.1849, -2.4451, -2.3586, -2.4504, -2.3022, -2.3475,\n",
      "         -2.2109, -2.2971],\n",
      "        [-2.3466, -2.1813, -2.2495, -2.5023, -2.3195, -2.3602, -2.1728, -2.3961,\n",
      "         -2.2433, -2.2996],\n",
      "        [-2.3625, -2.1195, -2.1312, -2.4205, -2.3952, -2.4890, -2.1736, -2.3947,\n",
      "         -2.2692, -2.3473],\n",
      "        [-2.2259, -2.0672, -2.2164, -2.5831, -2.3531, -2.5048, -2.2281, -2.3476,\n",
      "         -2.1945, -2.4140],\n",
      "        [-2.3232, -2.0715, -2.1844, -2.5185, -2.3627, -2.4092, -2.2159, -2.3955,\n",
      "         -2.2462, -2.3765],\n",
      "        [-2.3730, -2.1678, -2.2571, -2.4908, -2.2901, -2.4631, -2.1273, -2.4300,\n",
      "         -2.2209, -2.2755],\n",
      "        [-2.2659, -2.0997, -2.2429, -2.5736, -2.3702, -2.4624, -2.1873, -2.3556,\n",
      "         -2.1973, -2.3590],\n",
      "        [-2.3801, -2.1278, -2.2599, -2.4952, -2.3111, -2.4131, -2.1237, -2.4100,\n",
      "         -2.2680, -2.3036],\n",
      "        [-2.2616, -2.1148, -2.2600, -2.4970, -2.3802, -2.4593, -2.2006, -2.3826,\n",
      "         -2.2144, -2.3209],\n",
      "        [-2.3188, -2.0936, -2.1961, -2.5291, -2.3896, -2.4509, -2.2264, -2.4198,\n",
      "         -2.1972, -2.2873],\n",
      "        [-2.3176, -2.0741, -2.1900, -2.5149, -2.3918, -2.4170, -2.2153, -2.3284,\n",
      "         -2.2577, -2.3947],\n",
      "        [-2.2775, -2.1056, -2.1979, -2.4673, -2.4067, -2.4085, -2.2319, -2.4031,\n",
      "         -2.2617, -2.3243],\n",
      "        [-2.3206, -2.0980, -2.1727, -2.5064, -2.4191, -2.4262, -2.2084, -2.4083,\n",
      "         -2.2086, -2.3373],\n",
      "        [-2.3239, -2.1285, -2.2728, -2.5159, -2.3172, -2.3972, -2.1671, -2.3980,\n",
      "         -2.2426, -2.3211],\n",
      "        [-2.3328, -2.1135, -2.1774, -2.5084, -2.3617, -2.4625, -2.1548, -2.4364,\n",
      "         -2.2083, -2.3574],\n",
      "        [-2.3688, -2.2261, -2.1807, -2.4134, -2.3347, -2.4728, -2.2952, -2.3654,\n",
      "         -2.1820, -2.2319],\n",
      "        [-2.2686, -2.0747, -2.2006, -2.5356, -2.3969, -2.5046, -2.1980, -2.3929,\n",
      "         -2.1688, -2.3905],\n",
      "        [-2.2997, -2.0776, -2.1877, -2.5018, -2.3964, -2.4980, -2.1897, -2.3930,\n",
      "         -2.1927, -2.3843],\n",
      "        [-2.3131, -2.1410, -2.2958, -2.5440, -2.3189, -2.4222, -2.1903, -2.4787,\n",
      "         -2.1355, -2.2707],\n",
      "        [-2.2611, -2.1350, -2.2711, -2.5464, -2.2987, -2.4774, -2.2507, -2.3617,\n",
      "         -2.2280, -2.2607],\n",
      "        [-2.2558, -2.1929, -2.2220, -2.5047, -2.3246, -2.4927, -2.2340, -2.4405,\n",
      "         -2.1475, -2.2826],\n",
      "        [-2.3069, -2.0926, -2.1868, -2.4977, -2.3793, -2.5262, -2.1988, -2.3961,\n",
      "         -2.1868, -2.3470],\n",
      "        [-2.3354, -2.1630, -2.2371, -2.4785, -2.3579, -2.4533, -2.1672, -2.4307,\n",
      "         -2.1751, -2.2934],\n",
      "        [-2.2498, -2.1163, -2.1667, -2.4722, -2.3917, -2.4714, -2.2461, -2.4226,\n",
      "         -2.2294, -2.3318],\n",
      "        [-2.2794, -2.1590, -2.2335, -2.4360, -2.3581, -2.4789, -2.2375, -2.4439,\n",
      "         -2.2123, -2.2434],\n",
      "        [-2.2797, -2.0794, -2.2316, -2.5164, -2.3507, -2.5301, -2.1972, -2.3244,\n",
      "         -2.2209, -2.3843],\n",
      "        [-2.3306, -2.1992, -2.2557, -2.4773, -2.3320, -2.4441, -2.1506, -2.4202,\n",
      "         -2.1962, -2.2764],\n",
      "        [-2.4400, -2.1417, -2.2737, -2.5243, -2.3048, -2.4240, -2.1095, -2.4458,\n",
      "         -2.1904, -2.2618],\n",
      "        [-2.2561, -2.0991, -2.1432, -2.4672, -2.4687, -2.4476, -2.2919, -2.3572,\n",
      "         -2.2424, -2.3288],\n",
      "        [-2.3864, -2.1388, -2.2508, -2.4880, -2.3211, -2.4440, -2.1881, -2.4541,\n",
      "         -2.1579, -2.2709],\n",
      "        [-2.3102, -2.0938, -2.2625, -2.5903, -2.3591, -2.4125, -2.1610, -2.4359,\n",
      "         -2.2321, -2.2602],\n",
      "        [-2.2421, -2.0587, -2.2511, -2.5027, -2.4528, -2.4035, -2.2086, -2.3884,\n",
      "         -2.2461, -2.3528],\n",
      "        [-2.2953, -2.1556, -2.2420, -2.5588, -2.3901, -2.4751, -2.1290, -2.4976,\n",
      "         -2.1771, -2.2126],\n",
      "        [-2.3227, -2.1246, -2.2005, -2.4678, -2.4006, -2.5246, -2.1182, -2.3943,\n",
      "         -2.2058, -2.3581],\n",
      "        [-2.3336, -2.1998, -2.2880, -2.5424, -2.2731, -2.4618, -2.1382, -2.4321,\n",
      "         -2.1870, -2.2457],\n",
      "        [-2.2773, -2.1197, -2.2596, -2.5189, -2.3576, -2.4239, -2.1821, -2.3870,\n",
      "         -2.2257, -2.3382],\n",
      "        [-2.3334, -2.1388, -2.2729, -2.5626, -2.3431, -2.4132, -2.1234, -2.3844,\n",
      "         -2.2089, -2.3232],\n",
      "        [-2.3311, -2.1668, -2.2123, -2.5343, -2.3263, -2.4654, -2.1626, -2.4264,\n",
      "         -2.2304, -2.2443],\n",
      "        [-2.3009, -2.1434, -2.2865, -2.5295, -2.4164, -2.4036, -2.1465, -2.3711,\n",
      "         -2.2074, -2.2891],\n",
      "        [-2.3441, -2.1578, -2.2546, -2.6010, -2.3152, -2.4398, -2.1382, -2.3380,\n",
      "         -2.1993, -2.3211],\n",
      "        [-2.3161, -2.2259, -2.2254, -2.4287, -2.3291, -2.4581, -2.2084, -2.4121,\n",
      "         -2.1703, -2.2969],\n",
      "        [-2.3080, -2.2318, -2.1731, -2.4188, -2.4063, -2.4566, -2.2486, -2.3402,\n",
      "         -2.2034, -2.2809],\n",
      "        [-2.2325, -2.1043, -2.2991, -2.4466, -2.3882, -2.4294, -2.2287, -2.4120,\n",
      "         -2.2366, -2.3039]], grad_fn=<LogSoftmaxBackward0>)\n",
      "tensor([1.0000, 1.0000, 1.0000, 1.0000, 1.0000, 1.0000, 1.0000, 1.0000, 1.0000,\n",
      "        1.0000, 1.0000, 1.0000, 1.0000, 1.0000, 1.0000, 1.0000, 1.0000, 1.0000,\n",
      "        1.0000, 1.0000, 1.0000, 1.0000, 1.0000, 1.0000, 1.0000, 1.0000, 1.0000,\n",
      "        1.0000, 1.0000, 1.0000, 1.0000, 1.0000, 1.0000, 1.0000, 1.0000, 1.0000,\n",
      "        1.0000, 1.0000, 1.0000, 1.0000, 1.0000, 1.0000, 1.0000, 1.0000, 1.0000,\n",
      "        1.0000, 1.0000, 1.0000, 1.0000, 1.0000, 1.0000, 1.0000, 1.0000, 1.0000,\n",
      "        1.0000, 1.0000, 1.0000, 1.0000, 1.0000, 1.0000, 1.0000, 1.0000, 1.0000,\n",
      "        1.0000], grad_fn=<SumBackward1>)\n"
     ]
    }
   ],
   "source": [
    "# TODO: Build a feed-forward network\n",
    "model = nn.Sequential(nn.Linear(784, 128),\n",
    "                      nn.ReLU(),\n",
    "                      nn.Linear(128, 64),\n",
    "                      nn.ReLU(),\n",
    "                      nn.Linear(64, 10))\n",
    "\n",
    "# TODO: Define the loss\n",
    "criterion = nn.LogSoftmax(dim = 1)\n",
    "\n",
    "### Run this to check your work\n",
    "# Get our data\n",
    "dataiter = iter(trainloader)\n",
    "\n",
    "images, labels = next(dataiter)\n",
    "\n",
    "# Flatten images\n",
    "images = images.view(images.shape[0], -1)\n",
    "\n",
    "# Forward pass, get our logits\n",
    "logits = model(images)\n",
    "# Calculate the loss with the logits and the labels\n",
    "#loss = criterion(logits, labels)\n",
    "loss = criterion(logits)\n",
    "\n",
    "print(loss)\n",
    "print(torch.sum(torch.exp(loss), dim=1))"
   ]
  },
  {
   "cell_type": "markdown",
   "metadata": {},
   "source": [
    "## Autograd\n",
    "\n",
    "Now that we know how to calculate a loss, how do we use it to perform backpropagation? Torch provides a module, `autograd`, for automatically calculating the gradients of tensors. We can use it to calculate the gradients of all our parameters with respect to the loss. Autograd works by keeping track of operations performed on tensors, then going backwards through those operations, calculating gradients along the way. To make sure PyTorch keeps track of operations on a tensor and calculates the gradients, you need to set `requires_grad = True` on a tensor. You can do this at creation with the `requires_grad` keyword, or at any time with `x.requires_grad_(True)`.\n",
    "\n",
    "You can turn off gradients for a block of code with the `torch.no_grad()` content:\n",
    "```python\n",
    "x = torch.zeros(1, requires_grad=True)\n",
    ">>> with torch.no_grad():\n",
    "...     y = x * 2\n",
    ">>> y.requires_grad\n",
    "False\n",
    "```\n",
    "\n",
    "Also, you can turn on or off gradients altogether with `torch.set_grad_enabled(True|False)`.\n",
    "\n",
    "The gradients are computed with respect to some variable `z` with `z.backward()`. This does a backward pass through the operations that created `z`."
   ]
  },
  {
   "cell_type": "code",
   "execution_count": 6,
   "metadata": {},
   "outputs": [
    {
     "name": "stdout",
     "output_type": "stream",
     "text": [
      "tensor([[ 0.2170, -2.7034],\n",
      "        [-0.9466,  0.5327]], requires_grad=True)\n"
     ]
    }
   ],
   "source": [
    "x = torch.randn(2,2, requires_grad=True)\n",
    "print(x)"
   ]
  },
  {
   "cell_type": "code",
   "execution_count": 7,
   "metadata": {},
   "outputs": [
    {
     "name": "stdout",
     "output_type": "stream",
     "text": [
      "tensor([[0.0471, 7.3085],\n",
      "        [0.8960, 0.2837]], grad_fn=<PowBackward0>)\n"
     ]
    }
   ],
   "source": [
    "y = x**2\n",
    "print(y)"
   ]
  },
  {
   "cell_type": "markdown",
   "metadata": {},
   "source": [
    "Below we can see the operation that created `y`, a power operation `PowBackward0`."
   ]
  },
  {
   "cell_type": "code",
   "execution_count": 8,
   "metadata": {},
   "outputs": [
    {
     "name": "stdout",
     "output_type": "stream",
     "text": [
      "<PowBackward0 object at 0x0000022EEF4CC588>\n"
     ]
    }
   ],
   "source": [
    "## grad_fn shows the function that generated this variable\n",
    "print(y.grad_fn)"
   ]
  },
  {
   "cell_type": "markdown",
   "metadata": {},
   "source": [
    "The autograd module keeps track of these operations and knows how to calculate the gradient for each one. In this way, it's able to calculate the gradients for a chain of operations, with respect to any one tensor. Let's reduce the tensor `y` to a scalar value, the mean."
   ]
  },
  {
   "cell_type": "code",
   "execution_count": 9,
   "metadata": {},
   "outputs": [
    {
     "name": "stdout",
     "output_type": "stream",
     "text": [
      "tensor(2.1338, grad_fn=<MeanBackward0>)\n"
     ]
    }
   ],
   "source": [
    "z = y.mean()\n",
    "print(z)"
   ]
  },
  {
   "cell_type": "markdown",
   "metadata": {},
   "source": [
    "You can check the gradients for `x` and `y` but they are empty currently."
   ]
  },
  {
   "cell_type": "code",
   "execution_count": 10,
   "metadata": {},
   "outputs": [
    {
     "name": "stdout",
     "output_type": "stream",
     "text": [
      "None\n"
     ]
    }
   ],
   "source": [
    "print(x.grad)"
   ]
  },
  {
   "cell_type": "markdown",
   "metadata": {},
   "source": [
    "To calculate the gradients, you need to run the `.backward` method on a Variable, `z` for example. This will calculate the gradient for `z` with respect to `x`\n",
    "\n",
    "$$\n",
    "\\frac{\\partial z}{\\partial x} = \\frac{\\partial}{\\partial x}\\left[\\frac{1}{n}\\sum_i^n x_i^2\\right] = \\frac{x}{2}\n",
    "$$"
   ]
  },
  {
   "cell_type": "code",
   "execution_count": 11,
   "metadata": {},
   "outputs": [
    {
     "name": "stdout",
     "output_type": "stream",
     "text": [
      "tensor([[ 0.1085, -1.3517],\n",
      "        [-0.4733,  0.2663]])\n",
      "tensor([[ 0.1085, -1.3517],\n",
      "        [-0.4733,  0.2663]], grad_fn=<DivBackward0>)\n"
     ]
    }
   ],
   "source": [
    "z.backward()\n",
    "print(x.grad)\n",
    "print(x/2)"
   ]
  },
  {
   "cell_type": "markdown",
   "metadata": {},
   "source": [
    "These gradient calculations are particularly useful for neural networks. For training we need the gradients of the cost with respect to the weights. With PyTorch, we run data forward through the network to calculate the loss, then, go backwards to calculate the gradients with respect to the loss. Once we have the gradients we can make a gradient descent step. "
   ]
  },
  {
   "cell_type": "markdown",
   "metadata": {},
   "source": [
    "## Loss and Autograd together\n",
    "\n",
    "When we create a network with PyTorch, all of the parameters are initialized with `requires_grad = True`. This means that when we calculate the loss and call `loss.backward()`, the gradients for the parameters are calculated. These gradients are used to update the weights with gradient descent. Below you can see an example of calculating the gradients using a backwards pass."
   ]
  },
  {
   "cell_type": "code",
   "execution_count": 12,
   "metadata": {},
   "outputs": [],
   "source": [
    "# Build a feed-forward network\n",
    "model = nn.Sequential(nn.Linear(784, 128),\n",
    "                      nn.ReLU(),\n",
    "                      nn.Linear(128, 64),\n",
    "                      nn.ReLU(),\n",
    "                      nn.Linear(64, 10),\n",
    "                      nn.LogSoftmax(dim=1))\n",
    "\n",
    "criterion = nn.NLLLoss()\n",
    "dataiter = iter(trainloader)\n",
    "images, labels = next(dataiter)\n",
    "images = images.view(images.shape[0], -1)\n",
    "\n",
    "logits = model(images)\n",
    "loss = criterion(logits, labels)"
   ]
  },
  {
   "cell_type": "code",
   "execution_count": 13,
   "metadata": {},
   "outputs": [
    {
     "name": "stdout",
     "output_type": "stream",
     "text": [
      "Before backward pass: \n",
      " None\n",
      "After backward pass: \n",
      " tensor([[-0.0022, -0.0022, -0.0022,  ..., -0.0022, -0.0022, -0.0022],\n",
      "        [ 0.0002,  0.0002,  0.0002,  ...,  0.0002,  0.0002,  0.0002],\n",
      "        [ 0.0017,  0.0017,  0.0017,  ...,  0.0017,  0.0017,  0.0017],\n",
      "        ...,\n",
      "        [-0.0028, -0.0028, -0.0028,  ..., -0.0028, -0.0028, -0.0028],\n",
      "        [-0.0015, -0.0015, -0.0015,  ..., -0.0015, -0.0015, -0.0015],\n",
      "        [ 0.0000,  0.0000,  0.0000,  ...,  0.0000,  0.0000,  0.0000]])\n"
     ]
    }
   ],
   "source": [
    "print('Before backward pass: \\n', model[0].weight.grad)\n",
    "\n",
    "loss.backward()\n",
    "\n",
    "print('After backward pass: \\n', model[0].weight.grad)"
   ]
  },
  {
   "cell_type": "markdown",
   "metadata": {},
   "source": [
    "## Training the network!\n",
    "\n",
    "There's one last piece we need to start training, an optimizer that we'll use to update the weights with the gradients. We get these from PyTorch's [`optim` package](https://pytorch.org/docs/stable/optim.html). For example we can use stochastic gradient descent with `optim.SGD`. You can see how to define an optimizer below."
   ]
  },
  {
   "cell_type": "code",
   "execution_count": 14,
   "metadata": {},
   "outputs": [],
   "source": [
    "from torch import optim\n",
    "\n",
    "# Optimizers require the parameters to optimize and a learning rate\n",
    "optimizer = optim.SGD(model.parameters(), lr=0.01)"
   ]
  },
  {
   "cell_type": "markdown",
   "metadata": {},
   "source": [
    "Now we know how to use all the individual parts so it's time to see how they work together. Let's consider just one learning step before looping through all the data. The general process with PyTorch:\n",
    "\n",
    "* Make a forward pass through the network \n",
    "* Use the network output to calculate the loss\n",
    "* Perform a backward pass through the network with `loss.backward()` to calculate the gradients\n",
    "* Take a step with the optimizer to update the weights\n",
    "\n",
    "Below I'll go through one training step and print out the weights and gradients so you can see how it changes. Note that I have a line of code `optimizer.zero_grad()`. When you do multiple backwards passes with the same parameters, the gradients are accumulated. This means that you need to zero the gradients on each training pass or you'll retain gradients from previous training batches."
   ]
  },
  {
   "cell_type": "code",
   "execution_count": 15,
   "metadata": {},
   "outputs": [
    {
     "name": "stdout",
     "output_type": "stream",
     "text": [
      "Initial weights -  Parameter containing:\n",
      "tensor([[ 0.0162,  0.0225, -0.0215,  ..., -0.0314,  0.0210, -0.0276],\n",
      "        [-0.0091, -0.0299, -0.0011,  ...,  0.0148, -0.0281,  0.0053],\n",
      "        [ 0.0254,  0.0158, -0.0035,  ...,  0.0050,  0.0198, -0.0098],\n",
      "        ...,\n",
      "        [-0.0136,  0.0165,  0.0100,  ..., -0.0235, -0.0219,  0.0270],\n",
      "        [-0.0023,  0.0109,  0.0341,  ...,  0.0308,  0.0059, -0.0322],\n",
      "        [-0.0192,  0.0127, -0.0336,  ..., -0.0243,  0.0275, -0.0332]],\n",
      "       requires_grad=True)\n",
      "Gradient - tensor([[-1.2643e-03, -1.2643e-03, -1.2643e-03,  ..., -1.2643e-03,\n",
      "         -1.2643e-03, -1.2643e-03],\n",
      "        [-8.0457e-04, -8.0457e-04, -8.0457e-04,  ..., -8.0457e-04,\n",
      "         -8.0457e-04, -8.0457e-04],\n",
      "        [-1.8474e-03, -1.8474e-03, -1.8474e-03,  ..., -1.8474e-03,\n",
      "         -1.8474e-03, -1.8474e-03],\n",
      "        ...,\n",
      "        [ 1.6277e-03,  1.6277e-03,  1.6277e-03,  ...,  1.6277e-03,\n",
      "          1.6277e-03,  1.6277e-03],\n",
      "        [-7.5007e-04, -7.5007e-04, -7.5007e-04,  ..., -7.5007e-04,\n",
      "         -7.5007e-04, -7.5007e-04],\n",
      "        [ 3.3877e-05,  3.3877e-05,  3.3877e-05,  ...,  3.3877e-05,\n",
      "          3.3877e-05,  3.3877e-05]])\n"
     ]
    }
   ],
   "source": [
    "print('Initial weights - ', model[0].weight)\n",
    "\n",
    "dataiter = iter(trainloader)\n",
    "images, labels = next(dataiter)\n",
    "images.resize_(64, 784)\n",
    "\n",
    "# Clear the gradients, do this because gradients are accumulated\n",
    "optimizer.zero_grad()\n",
    "\n",
    "# Forward pass, then backward pass, then update weights\n",
    "output = model(images)\n",
    "loss = criterion(output, labels)\n",
    "loss.backward()\n",
    "print('Gradient -', model[0].weight.grad)"
   ]
  },
  {
   "cell_type": "code",
   "execution_count": 16,
   "metadata": {},
   "outputs": [
    {
     "name": "stdout",
     "output_type": "stream",
     "text": [
      "Updated weights -  Parameter containing:\n",
      "tensor([[ 0.0162,  0.0225, -0.0215,  ..., -0.0314,  0.0210, -0.0276],\n",
      "        [-0.0091, -0.0299, -0.0011,  ...,  0.0148, -0.0280,  0.0053],\n",
      "        [ 0.0254,  0.0158, -0.0035,  ...,  0.0050,  0.0198, -0.0098],\n",
      "        ...,\n",
      "        [-0.0136,  0.0165,  0.0100,  ..., -0.0236, -0.0219,  0.0269],\n",
      "        [-0.0023,  0.0110,  0.0341,  ...,  0.0308,  0.0059, -0.0322],\n",
      "        [-0.0192,  0.0127, -0.0336,  ..., -0.0243,  0.0275, -0.0332]],\n",
      "       requires_grad=True)\n"
     ]
    }
   ],
   "source": [
    "# Take an update step and view the new weights\n",
    "optimizer.step()\n",
    "print('Updated weights - ', model[0].weight)"
   ]
  },
  {
   "cell_type": "markdown",
   "metadata": {},
   "source": [
    "### Training for real\n",
    "\n",
    "Now we'll put this algorithm into a loop so we can go through all the images. Some nomenclature, one pass through the entire dataset is called an *epoch*. So here we're going to loop through `trainloader` to get our training batches. For each batch, we'll doing a training pass where we calculate the loss, do a backwards pass, and update the weights.\n",
    "\n",
    ">**Exercise:** Implement the training pass for our network. If you implemented it correctly, you should see the training loss drop with each epoch."
   ]
  },
  {
   "cell_type": "code",
   "execution_count": 20,
   "metadata": {},
   "outputs": [
    {
     "name": "stdout",
     "output_type": "stream",
     "text": [
      "Training loss: 1.9495281500857014\n",
      "Training loss: 0.8910839408318371\n",
      "Training loss: 0.5499445073195358\n",
      "Training loss: 0.44557562470436096\n",
      "Training loss: 0.39609732609123055\n"
     ]
    }
   ],
   "source": [
    "## Your solution here\n",
    "\n",
    "model = nn.Sequential(nn.Linear(784, 128),\n",
    "                      nn.ReLU(),\n",
    "                      nn.Linear(128, 64),\n",
    "                      nn.ReLU(),\n",
    "                      nn.Linear(64, 10),\n",
    "                      nn.LogSoftmax(dim=1))\n",
    "\n",
    "criterion = nn.NLLLoss()\n",
    "optimizer = optim.SGD(model.parameters(), lr=0.003)\n",
    "\n",
    "epochs = 5\n",
    "for e in range(epochs):\n",
    "    running_loss = 0\n",
    "    for images, labels in trainloader:\n",
    "        # Flatten MNIST images into a 784 long vector\n",
    "        images = images.view(images.shape[0], -1)\n",
    "    \n",
    "        # TODO: Training pass\n",
    "        # Clear the gradients, do this because gradients are accumulated\n",
    "        optimizer.zero_grad()\n",
    "\n",
    "        # Forward pass, then backward pass, then update weights\n",
    "        output = model(images)\n",
    "        loss = criterion(output, labels)\n",
    "        loss.backward()\n",
    "        \n",
    "        running_loss += loss.item()\n",
    "        optimizer.step()\n",
    "    else:\n",
    "        print(f\"Training loss: {running_loss/len(trainloader)}\")"
   ]
  },
  {
   "cell_type": "markdown",
   "metadata": {},
   "source": [
    "With the network trained, we can check out it's predictions."
   ]
  },
  {
   "cell_type": "code",
   "execution_count": 23,
   "metadata": {},
   "outputs": [
    {
     "data": {
      "image/png": "[encoded data removed]",
      "text/plain": [
       "<Figure size 432x648 with 2 Axes>"
      ]
     },
     "metadata": {
      "needs_background": "light"
     },
     "output_type": "display_data"
    }
   ],
   "source": [
    "%matplotlib inline\n",
    "import helper\n",
    "\n",
    "dataiter = iter(trainloader)\n",
    "images, labels = next(dataiter)\n",
    "\n",
    "img = images[0].view(1, 784)\n",
    "# Turn off gradients to speed up this part\n",
    "with torch.no_grad():\n",
    "    logps = model(img)\n",
    "\n",
    "# Output of the network are log-probabilities, need to take exponential for probabilities\n",
    "ps = torch.exp(logps)\n",
    "helper.view_classify(img.view(1, 28, 28), ps)"
   ]
  },
  {
   "cell_type": "markdown",
   "metadata": {},
   "source": [
    "Now our network is (almost) brilliant (we train and \"test\" on the same data) . It can accurately predict the digits in our images. Next up you'll write the code for training a neural network on a more complex dataset."
   ]
  }
 ],
 "metadata": {
  "kernelspec": {
   "display_name": "Python 3",
   "language": "python",
   "name": "python3"
  },
  "language_info": {
   "codemirror_mode": {
    "name": "ipython",
    "version": 3
   },
   "file_extension": ".py",
   "mimetype": "text/x-python",
   "name": "python",
   "nbconvert_exporter": "python",
   "pygments_lexer": "ipython3",
   "version": "3.7.9"
  },
  "vscode": {
   "interpreter": {
    "hash": "5109d816b82be14675a6b11f8e0f0d2e80f029176ed3710d54e125caa8520dfd"
   }
  }
 },
 "nbformat": 4,
 "nbformat_minor": 2
}
